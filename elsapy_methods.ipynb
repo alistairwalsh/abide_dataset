{
 "cells": [
  {
   "cell_type": "code",
   "execution_count": 2,
   "metadata": {},
   "outputs": [
    {
     "name": "stdout",
     "output_type": "stream",
     "text": [
      "__init__.py    elsdoc.py      elsprofile.py  log_util.py\r\n",
      "elsclient.py   elsentity.py   elssearch.py\r\n"
     ]
    }
   ],
   "source": [
    "ls elsapy/"
   ]
  },
  {
   "cell_type": "code",
   "execution_count": null,
   "metadata": {
    "collapsed": true
   },
   "outputs": [],
   "source": [
    "from elsapy.elsclient import ElsClient\n",
    "from elsapy.elsprofile import ElsAuthor, ElsAffil\n",
    "from elsapy.elsdoc import FullDoc, AbsDoc\n",
    "from elsapy.elssearch import ElsSearch\n",
    "import json\n",
    "\n",
    "## Load configuration\n",
    "con_file = open(\"config.json\")\n",
    "config = json.load(con_file)\n",
    "con_file.close()\n",
    "\n",
    "## Initialize client\n",
    "client = ElsClient(config['apikey'])\n",
    "\n",
    "AbsDoc()\n",
    "\n",
    "FullDoc()"
   ]
  },
  {
   "cell_type": "code",
   "execution_count": 3,
   "metadata": {},
   "outputs": [
    {
     "name": "stdout",
     "output_type": "stream",
     "text": [
      "Read document failed.\n",
      "pii_doc.title:  Establishing the fair allocation of international aviation carbon emission rights \n",
      "doi_doc.title:  Sensitive Sequencing Method for KRAS Mutation Detection by Pyrosequencing \n",
      "doc_srch has 169 results.\n"
     ]
    }
   ],
   "source": [
    "## Scopus (Abtract) document example\n",
    "# Initialize document with ID as integer\n",
    "scp_doc = AbsDoc(scp_id = 84872135457)\n",
    "if scp_doc.read(client):\n",
    "    print (\"scp_doc.title: \", scp_doc.title)\n",
    "    scp_doc.write()   \n",
    "else:\n",
    "    print (\"Read document failed.\")\n",
    "\n",
    "## ScienceDirect (full-text) document example using PII\n",
    "pii_doc = FullDoc(sd_pii = 'S1674927814000082')\n",
    "if pii_doc.read(client):\n",
    "    print (\"pii_doc.title: \", pii_doc.title)\n",
    "    pii_doc.write()   \n",
    "else:\n",
    "    print (\"Read document failed.\")\n",
    "\n",
    "## ScienceDirect (full-text) document example using DOI\n",
    "doi_doc = FullDoc(doi = '10.1016/S1525-1578(10)60571-5')\n",
    "if doi_doc.read(client):\n",
    "    print (\"doi_doc.title: \", doi_doc.title)\n",
    "    doi_doc.write()   \n",
    "else:\n",
    "    print (\"Read document failed.\")\n",
    "    \n",
    "## Initialize doc search object and execute search, retrieving all results\n",
    "doc_srch = ElsSearch('star+trek+vs+star+wars','scopus')\n",
    "doc_srch.execute(client, get_all = True)\n",
    "print (\"doc_srch has\", len(doc_srch.results), \"results.\")"
   ]
  },
  {
   "cell_type": "code",
   "execution_count": 9,
   "metadata": {},
   "outputs": [
    {
     "data": {
      "text/plain": [
       "True"
      ]
     },
     "execution_count": 9,
     "metadata": {},
     "output_type": "execute_result"
    }
   ],
   "source": [
    "doi_doc.write()"
   ]
  },
  {
   "cell_type": "code",
   "execution_count": null,
   "metadata": {
    "collapsed": true
   },
   "outputs": [],
   "source": []
  }
 ],
 "metadata": {
  "kernelspec": {
   "display_name": "Python 3",
   "language": "python",
   "name": "python3"
  },
  "language_info": {
   "codemirror_mode": {
    "name": "ipython",
    "version": 3
   },
   "file_extension": ".py",
   "mimetype": "text/x-python",
   "name": "python",
   "nbconvert_exporter": "python",
   "pygments_lexer": "ipython3",
   "version": "3.6.1"
  }
 },
 "nbformat": 4,
 "nbformat_minor": 2
}
