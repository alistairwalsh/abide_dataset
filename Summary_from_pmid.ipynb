{
 "cells": [
  {
   "cell_type": "code",
   "execution_count": 1,
   "metadata": {},
   "outputs": [],
   "source": [
    "import requests\n",
    "import bs4\n",
    "import pubmed_lookup"
   ]
  },
  {
   "cell_type": "code",
   "execution_count": 2,
   "metadata": {
    "collapsed": true
   },
   "outputs": [],
   "source": [
    "r = requests.get('http://fcon_1000.projects.nitrc.org/indi/abide/manuscripts.html')"
   ]
  },
  {
   "cell_type": "code",
   "execution_count": 3,
   "metadata": {},
   "outputs": [],
   "source": [
    "soup = bs4.BeautifulSoup(r.text,'html.parser')"
   ]
  },
  {
   "cell_type": "code",
   "execution_count": 4,
   "metadata": {},
   "outputs": [],
   "source": [
    "pmids = [link['href'] for link in soup.find_all('a') \\\n",
    "         if (link['href'][-3:].isdigit()) \\\n",
    "         and ('sublist' not in link['href'])]\n"
   ]
  },
  {
   "cell_type": "code",
   "execution_count": 5,
   "metadata": {},
   "outputs": [
    {
     "data": {
      "text/plain": [
       "['http://www.ncbi.nlm.nih.gov/pubmed/23774715',\n",
       " 'http://www.ncbi.nlm.nih.gov/pubmed/28291247',\n",
       " 'http://www.ncbi.nlm.nih.gov/pubmed/27865923',\n",
       " 'http://www.ncbi.nlm.nih.gov/pubmed/27664827',\n",
       " 'http://www.ncbi.nlm.nih.gov/pubmed/27585835',\n",
       " 'http://www.ncbi.nlm.nih.gov/pubmed/27990125',\n",
       " 'http://www.ncbi.nlm.nih.gov/pubmed/28030565',\n",
       " 'http://www.ncbi.nlm.nih.gov/pubmed/28040544',\n",
       " 'http://www.ncbi.nlm.nih.gov/pubmed/27869148',\n",
       " 'http://www.ncbi.nlm.nih.gov/pubmed/27868393',\n",
       " 'http://www.ncbi.nlm.nih.gov/pubmed/27969061',\n",
       " 'http://www.ncbi.nlm.nih.gov/pubmed/27695408',\n",
       " 'http://www.ncbi.nlm.nih.gov/pubmed/2746713',\n",
       " 'http://www.ncbi.nlm.nih.gov/pubmed/27535871',\n",
       " 'http://www.ncbi.nlm.nih.gov/pubmed/26613549',\n",
       " 'http://www.ncbi.nlm.nih.gov/pubmed/27358766',\n",
       " 'http://www.ncbi.nlm.nih.gov/pubmed/26707088',\n",
       " 'http://www.ncbi.nlm.nih.gov/pubmed/27194227',\n",
       " 'http://www.ncbi.nlm.nih.gov/pubmed/27073219',\n",
       " 'http://www.ncbi.nlm.nih.gov/pubmed/27114898',\n",
       " 'http://www.ncbi.nlm.nih.gov/pubmed/26821773',\n",
       " 'http://www.ncbi.nlm.nih.gov/pubmed/26941174',\n",
       " 'http://www.ncbi.nlm.nih.gov/pubmed/26989195',\n",
       " 'http://www.ncbi.nlm.nih.gov/pubmed/26476740',\n",
       " 'http://www.ncbi.nlm.nih.gov/pubmed/26686668',\n",
       " 'http://www.ncbi.nlm.nih.gov/pubmed/27065101',\n",
       " 'http://www.ncbi.nlm.nih.gov/pubmed/27147940',\n",
       " 'http://www.ncbi.nlm.nih.gov/pubmed/27153982',\n",
       " 'http://www.ncbi.nlm.nih.gov/pubmed/27179315',\n",
       " 'http://www.ncbi.nlm.nih.gov/pubmed/27199653',\n",
       " 'http://www.ncbi.nlm.nih.gov/pubmed/27313505',\n",
       " 'http://www.ncbi.nlm.nih.gov/pubmed/27226895',\n",
       " 'http://www.ncbi.nlm.nih.gov/pubmed/27430030',\n",
       " 'http://www.ncbi.nlm.nih.gov/pubmed/26973154',\n",
       " 'http://www.ncbi.nlm.nih.gov/pubmed/25316335',\n",
       " 'http://www.ncbi.nlm.nih.gov/pubmed/26505141',\n",
       " 'http://www.ncbi.nlm.nih.gov/pubmed/26985666',\n",
       " 'http://www.ncbi.nlm.nih.gov/pubmed/26058882',\n",
       " 'http://www.ncbi.nlm.nih.gov/pubmed/26543004',\n",
       " 'http://www.ncbi.nlm.nih.gov/pubmed/26451751',\n",
       " 'http://www.ncbi.nlm.nih.gov/pubmed/26693400',\n",
       " 'http://www.ncbi.nlm.nih.gov/pubmed/26347127',\n",
       " 'http://www.ncbi.nlm.nih.gov/pubmed/26737238',\n",
       " 'http://www.ncbi.nlm.nih.gov/pubmed/26148789',\n",
       " 'http://www.sciencedirect.com/science/article/pii/S0957417415004911',\n",
       " 'http://www.ncbi.nlm.nih.gov/pubmed/25599222',\n",
       " 'http://ieeexplore.ieee.org/xpl/login.jsp?tp=&arnumber=7280562&url=http%3A%2F%2Fieeexplore.ieee.org%2Fxpls%2Fabs_all.jsp%3Farnumber%3D7280562',\n",
       " 'http://ieeexplore.ieee.org/xpl/login.jsp?tp=&arnumber=7280537&url=http%3A%2F%2Fieeexplore.ieee.org%2Fxpls%2Fabs_all.jsp%3Farnumber%3D7280537',\n",
       " 'http://www.ncbi.nlm.nih.gov/pubmed/25844325',\n",
       " 'http://www.ncbi.nlm.nih.gov/pubmed/26106561',\n",
       " 'http://www.ncbi.nlm.nih.gov/pubmed/25951196',\n",
       " 'http://www.ncbi.nlm.nih.gov/pubmed/25727858',\n",
       " 'http://www.ncbi.nlm.nih.gov/pubmed/26146534',\n",
       " 'http://www.ncbi.nlm.nih.gov/pubmed/25850620',\n",
       " 'http://www.ncbi.nlm.nih.gov/pubmed/25243989',\n",
       " 'http://www.ncbi.nlm.nih.gov/pubmed/26043845',\n",
       " 'http://www.ncbi.nlm.nih.gov/pubmed/25795704',\n",
       " 'http://www.ncbi.nlm.nih.gov/pubmed/25585020',\n",
       " 'http://www.ncbi.nlm.nih.gov/pubmed/26106547',\n",
       " 'http://www.ncbi.nlm.nih.gov/pubmed/26061743',\n",
       " 'http://www.ncbi.nlm.nih.gov/pubmed/26210336',\n",
       " 'http://www.ncbi.nlm.nih.gov/pubmed/26180782',\n",
       " 'http://www.ncbi.nlm.nih.gov/pubmed/25809403',\n",
       " 'http://www.ncbi.nlm.nih.gov/pubmed/26441493',\n",
       " 'http://www.ncbi.nlm.nih.gov/pubmed/25685703',\n",
       " 'http://www.ncbi.nlm.nih.gov/pubmed/25188284',\n",
       " 'http://www.ncbi.nlm.nih.gov/pubmed/25116862',\n",
       " 'http://www.ncbi.nlm.nih.gov/pubmed/24502324',\n",
       " 'http://www.ncbi.nlm.nih.gov/pubmed/24860442',\n",
       " 'http://www.ncbi.nlm.nih.gov/pubmed/25405416',\n",
       " 'http://www.ncbi.nlm.nih.gov/pubmed/24922325',\n",
       " 'http://www.ncbi.nlm.nih.gov/pubmed/24078018',\n",
       " 'http://www.ncbi.nlm.nih.gov/pubmed/24093016',\n",
       " 'http://www.ncbi.nlm.nih.gov/pubmed/24179822',\n",
       " 'http://ieeexplore.ieee.org/xpls/abs_all.jsp?arnumber=6706777',\n",
       " 'http://www.ncbi.nlm.nih.gov/pubmed/25888923',\n",
       " 'http://www.ncbi.nlm.nih.gov/pubmed/26146755',\n",
       " 'http://www.ncbi.nlm.nih.gov/pubmed/25602243',\n",
       " 'http://www.ncbi.nlm.nih.gov/pubmed/25655872',\n",
       " 'http://www.ncbi.nlm.nih.gov/pubmed/24496901',\n",
       " 'http://www.ncbi.nlm.nih.gov/pubmed/25233316',\n",
       " 'http://www.ncbi.nlm.nih.gov/pubmed/24917800',\n",
       " 'http://www.ncbi.nlm.nih.gov/pubmed/25793106',\n",
       " 'http://www.ncbi.nlm.nih.gov/pubmed/23966925',\n",
       " 'http://www.ncbi.nlm.nih.gov/pubmed/23123682']"
      ]
     },
     "execution_count": 5,
     "metadata": {},
     "output_type": "execute_result"
    }
   ],
   "source": [
    "pmids"
   ]
  },
  {
   "cell_type": "code",
   "execution_count": 13,
   "metadata": {},
   "outputs": [
    {
     "ename": "TypeError",
     "evalue": "descriptor 'get' requires a 'dict' object but received a 'NoneType'",
     "output_type": "error",
     "traceback": [
      "\u001b[0;31m---------------------------------------------------------------------------\u001b[0m",
      "\u001b[0;31mTypeError\u001b[0m                                 Traceback (most recent call last)",
      "\u001b[0;32m<ipython-input-13-4da0ad1ec660>\u001b[0m in \u001b[0;36m<module>\u001b[0;34m()\u001b[0m\n\u001b[1;32m      7\u001b[0m     \u001b[0;32mfor\u001b[0m \u001b[0murl\u001b[0m \u001b[0;32min\u001b[0m \u001b[0mpmids\u001b[0m\u001b[0;34m:\u001b[0m\u001b[0;34m\u001b[0m\u001b[0m\n\u001b[1;32m      8\u001b[0m         \u001b[0mlookup\u001b[0m \u001b[0;34m=\u001b[0m \u001b[0mPubMedLookup\u001b[0m\u001b[0;34m(\u001b[0m\u001b[0murl\u001b[0m\u001b[0;34m,\u001b[0m \u001b[0memail\u001b[0m\u001b[0;34m)\u001b[0m\u001b[0;34m\u001b[0m\u001b[0m\n\u001b[0;32m----> 9\u001b[0;31m         \u001b[0mpublication\u001b[0m \u001b[0;34m=\u001b[0m \u001b[0mPublication\u001b[0m\u001b[0;34m(\u001b[0m\u001b[0mlookup\u001b[0m\u001b[0;34m)\u001b[0m\u001b[0;34m\u001b[0m\u001b[0m\n\u001b[0m\u001b[1;32m     10\u001b[0m \u001b[0;34m\u001b[0m\u001b[0m\n\u001b[1;32m     11\u001b[0m         print(\n",
      "\u001b[0;32m/Users/alistair/anaconda/lib/python3.6/site-packages/pubmed_lookup/pubmed_lookup.py\u001b[0m in \u001b[0;36m__init__\u001b[0;34m(self, pubmed_record, resolve_doi)\u001b[0m\n\u001b[1;32m     43\u001b[0m \u001b[0;34m\u001b[0m\u001b[0m\n\u001b[1;32m     44\u001b[0m         \u001b[0mxml_dict\u001b[0m \u001b[0;34m=\u001b[0m \u001b[0mself\u001b[0m\u001b[0;34m.\u001b[0m\u001b[0mget_pubmed_xml\u001b[0m\u001b[0;34m(\u001b[0m\u001b[0;34m)\u001b[0m\u001b[0;34m\u001b[0m\u001b[0m\n\u001b[0;32m---> 45\u001b[0;31m         \u001b[0mself\u001b[0m\u001b[0;34m.\u001b[0m\u001b[0mset_abstract\u001b[0m\u001b[0;34m(\u001b[0m\u001b[0mxml_dict\u001b[0m\u001b[0;34m)\u001b[0m\u001b[0;34m\u001b[0m\u001b[0m\n\u001b[0m\u001b[1;32m     46\u001b[0m         \u001b[0mself\u001b[0m\u001b[0;34m.\u001b[0m\u001b[0mset_pub_year_month_day\u001b[0m\u001b[0;34m(\u001b[0m\u001b[0mxml_dict\u001b[0m\u001b[0;34m)\u001b[0m\u001b[0;34m\u001b[0m\u001b[0m\n\u001b[1;32m     47\u001b[0m \u001b[0;34m\u001b[0m\u001b[0m\n",
      "\u001b[0;32m/Users/alistair/anaconda/lib/python3.6/site-packages/pubmed_lookup/pubmed_lookup.py\u001b[0m in \u001b[0;36mset_abstract\u001b[0;34m(self, xml_dict)\u001b[0m\n\u001b[1;32m    171\u001b[0m         \"\"\"\n\u001b[1;32m    172\u001b[0m         \u001b[0;32mif\u001b[0m \u001b[0mself\u001b[0m\u001b[0;34m.\u001b[0m\u001b[0mrecord\u001b[0m\u001b[0;34m.\u001b[0m\u001b[0mget\u001b[0m\u001b[0;34m(\u001b[0m\u001b[0;34m'HasAbstract'\u001b[0m\u001b[0;34m)\u001b[0m \u001b[0;34m==\u001b[0m \u001b[0;36m1\u001b[0m \u001b[0;32mand\u001b[0m \u001b[0mxml_dict\u001b[0m\u001b[0;34m:\u001b[0m\u001b[0;34m\u001b[0m\u001b[0m\n\u001b[0;32m--> 173\u001b[0;31m             \u001b[0mself\u001b[0m\u001b[0;34m.\u001b[0m\u001b[0mabstract\u001b[0m \u001b[0;34m=\u001b[0m \u001b[0mself\u001b[0m\u001b[0;34m.\u001b[0m\u001b[0mparse_abstract\u001b[0m\u001b[0;34m(\u001b[0m\u001b[0mxml_dict\u001b[0m\u001b[0;34m)\u001b[0m\u001b[0;34m\u001b[0m\u001b[0m\n\u001b[0m\u001b[1;32m    174\u001b[0m         \u001b[0;32melse\u001b[0m\u001b[0;34m:\u001b[0m\u001b[0;34m\u001b[0m\u001b[0m\n\u001b[1;32m    175\u001b[0m             \u001b[0mself\u001b[0m\u001b[0;34m.\u001b[0m\u001b[0mabstract\u001b[0m \u001b[0;34m=\u001b[0m \u001b[0;34m''\u001b[0m\u001b[0;34m\u001b[0m\u001b[0m\n",
      "\u001b[0;32m/Users/alistair/anaconda/lib/python3.6/site-packages/pubmed_lookup/pubmed_lookup.py\u001b[0m in \u001b[0;36mparse_abstract\u001b[0;34m(xml_dict)\u001b[0m\n\u001b[1;32m    111\u001b[0m         key_path = ['PubmedArticleSet', 'PubmedArticle', 'MedlineCitation',\n\u001b[1;32m    112\u001b[0m                     'Article', 'Abstract', 'AbstractText']\n\u001b[0;32m--> 113\u001b[0;31m         \u001b[0mabstract_xml\u001b[0m \u001b[0;34m=\u001b[0m \u001b[0mreduce\u001b[0m\u001b[0;34m(\u001b[0m\u001b[0mdict\u001b[0m\u001b[0;34m.\u001b[0m\u001b[0mget\u001b[0m\u001b[0;34m,\u001b[0m \u001b[0mkey_path\u001b[0m\u001b[0;34m,\u001b[0m \u001b[0mxml_dict\u001b[0m\u001b[0;34m)\u001b[0m\u001b[0;34m\u001b[0m\u001b[0m\n\u001b[0m\u001b[1;32m    114\u001b[0m \u001b[0;34m\u001b[0m\u001b[0m\n\u001b[1;32m    115\u001b[0m         \u001b[0mabstract_paragraphs\u001b[0m \u001b[0;34m=\u001b[0m \u001b[0;34m[\u001b[0m\u001b[0;34m]\u001b[0m\u001b[0;34m\u001b[0m\u001b[0m\n",
      "\u001b[0;31mTypeError\u001b[0m: descriptor 'get' requires a 'dict' object but received a 'NoneType'"
     ]
    }
   ],
   "source": [
    "from pubmed_lookup import PubMedLookup, Publication\n",
    "\n",
    "with open('summary.txt','a') as outfile:\n",
    "\n",
    "    # NCBI will contact user by email if excessive queries are detected\n",
    "    email = 'alistair.walsh@unimelb.edu.au'\n",
    "    for url in pmids:\n",
    "        lookup = PubMedLookup(url, email)\n",
    "        publication = Publication(lookup) \n",
    "\n",
    "        print(\n",
    "        \"\"\"\n",
    "        TITLE:\\n{title}\\n\n",
    "        AUTHORS:\\n{authors}\\n\n",
    "        JOURNAL:\\n{journal}\\n\n",
    "        YEAR:\\n{year}\\n\n",
    "        URL:\\n{url}\\n\n",
    "        PUBMED:\\n{pubmed}\\n\n",
    "        ABSTRACT:\\n{abstract}\\n\n",
    "        \"\"\"\n",
    "        .format(**{\n",
    "            'title': publication.title,\n",
    "            'authors': publication.authors,\n",
    "            'journal': publication.journal,\n",
    "            'year': publication.year,\n",
    "            'url': publication.url,\n",
    "            'pubmed': publication.pubmed_url,\n",
    "            'abstract': repr(publication.abstract),\n",
    "        }),file=outfile)"
   ]
  }
 ],
 "metadata": {
  "kernelspec": {
   "display_name": "Python 3",
   "language": "python",
   "name": "python3"
  },
  "language_info": {
   "codemirror_mode": {
    "name": "ipython",
    "version": 3
   },
   "file_extension": ".py",
   "mimetype": "text/x-python",
   "name": "python",
   "nbconvert_exporter": "python",
   "pygments_lexer": "ipython3",
   "version": "3.6.1"
  }
 },
 "nbformat": 4,
 "nbformat_minor": 2
}
